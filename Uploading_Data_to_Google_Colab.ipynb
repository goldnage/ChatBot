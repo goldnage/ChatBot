{
  "nbformat": 4,
  "nbformat_minor": 0,
  "metadata": {
    "colab": {
      "name": "Uploading Data to Google Colab.ipynb",
      "provenance": [],
      "include_colab_link": true
    },
    "kernelspec": {
      "name": "python3",
      "display_name": "Python 3"
    }
  },
  "cells": [
    {
      "cell_type": "markdown",
      "metadata": {
        "id": "view-in-github",
        "colab_type": "text"
      },
      "source": [
        "<a href=\"https://colab.research.google.com/github/goldnage/ChatBot/blob/main/Uploading_Data_to_Google_Colab.ipynb\" target=\"_parent\"><img src=\"https://colab.research.google.com/assets/colab-badge.svg\" alt=\"Open In Colab\"/></a>"
      ]
    },
    {
      "metadata": {
        "id": "dZe2U4Qrl7IH"
      },
      "cell_type": "markdown",
      "source": [
        "##All the follwing information are explained based on my Youtube videos in the follwing link:\n",
        "https://www.youtube.com/watch?v=pzl0XG-_0rI&feature=youtu.be\n"
      ]
    },
    {
      "metadata": {
        "id": "JA7yOsSyrzFD"
      },
      "cell_type": "markdown",
      "source": [
        "***Loading from Local Drive***\n",
        "\n",
        "Disadvantage: those data you load to Google Colab directly will be loaded to the colaboratory virtual machine, which means your loaed data will be deleted after 12 hours!!\n",
        "\n",
        "Advantages: You overcome the problem of the limited amout of data because by loading your data to the virtual machine you have up to 45 - 50 GB space. (however not recommended)\n",
        "\n",
        "For further information: https://colab.research.google.com/notebooks/io.ipynb\n",
        "\n",
        "You can do it by  using the following code:"
      ]
    },
    {
      "metadata": {
        "id": "TUVdIxINrxsf",
        "outputId": "66353a6b-ad8d-4e8a-c01a-039ff55b7057",
        "colab": {
          "base_uri": "https://localhost:8080/",
          "height": 96
        }
      },
      "cell_type": "code",
      "source": [
        "from google.colab import files\n",
        "\n",
        "uploaded = files.upload()\n",
        "\n",
        "for fn in uploaded.keys():\n",
        "  print('User uploaded file \"Uploading_Data_Colab_1.xlsx\" with length 9000 bytes'.format(\n",
        "      name=fn, length=len(uploaded[fn])))"
      ],
      "execution_count": 1,
      "outputs": [
        {
          "output_type": "display_data",
          "data": {
            "text/plain": [
              "<IPython.core.display.HTML object>"
            ],
            "text/html": [
              "\n",
              "     <input type=\"file\" id=\"files-fe989247-b18f-45c8-a12c-a7663cc71785\" name=\"files[]\" multiple disabled\n",
              "        style=\"border:none\" />\n",
              "     <output id=\"result-fe989247-b18f-45c8-a12c-a7663cc71785\">\n",
              "      Upload widget is only available when the cell has been executed in the\n",
              "      current browser session. Please rerun this cell to enable.\n",
              "      </output>\n",
              "      <script>// Copyright 2017 Google LLC\n",
              "//\n",
              "// Licensed under the Apache License, Version 2.0 (the \"License\");\n",
              "// you may not use this file except in compliance with the License.\n",
              "// You may obtain a copy of the License at\n",
              "//\n",
              "//      http://www.apache.org/licenses/LICENSE-2.0\n",
              "//\n",
              "// Unless required by applicable law or agreed to in writing, software\n",
              "// distributed under the License is distributed on an \"AS IS\" BASIS,\n",
              "// WITHOUT WARRANTIES OR CONDITIONS OF ANY KIND, either express or implied.\n",
              "// See the License for the specific language governing permissions and\n",
              "// limitations under the License.\n",
              "\n",
              "/**\n",
              " * @fileoverview Helpers for google.colab Python module.\n",
              " */\n",
              "(function(scope) {\n",
              "function span(text, styleAttributes = {}) {\n",
              "  const element = document.createElement('span');\n",
              "  element.textContent = text;\n",
              "  for (const key of Object.keys(styleAttributes)) {\n",
              "    element.style[key] = styleAttributes[key];\n",
              "  }\n",
              "  return element;\n",
              "}\n",
              "\n",
              "// Max number of bytes which will be uploaded at a time.\n",
              "const MAX_PAYLOAD_SIZE = 100 * 1024;\n",
              "\n",
              "function _uploadFiles(inputId, outputId) {\n",
              "  const steps = uploadFilesStep(inputId, outputId);\n",
              "  const outputElement = document.getElementById(outputId);\n",
              "  // Cache steps on the outputElement to make it available for the next call\n",
              "  // to uploadFilesContinue from Python.\n",
              "  outputElement.steps = steps;\n",
              "\n",
              "  return _uploadFilesContinue(outputId);\n",
              "}\n",
              "\n",
              "// This is roughly an async generator (not supported in the browser yet),\n",
              "// where there are multiple asynchronous steps and the Python side is going\n",
              "// to poll for completion of each step.\n",
              "// This uses a Promise to block the python side on completion of each step,\n",
              "// then passes the result of the previous step as the input to the next step.\n",
              "function _uploadFilesContinue(outputId) {\n",
              "  const outputElement = document.getElementById(outputId);\n",
              "  const steps = outputElement.steps;\n",
              "\n",
              "  const next = steps.next(outputElement.lastPromiseValue);\n",
              "  return Promise.resolve(next.value.promise).then((value) => {\n",
              "    // Cache the last promise value to make it available to the next\n",
              "    // step of the generator.\n",
              "    outputElement.lastPromiseValue = value;\n",
              "    return next.value.response;\n",
              "  });\n",
              "}\n",
              "\n",
              "/**\n",
              " * Generator function which is called between each async step of the upload\n",
              " * process.\n",
              " * @param {string} inputId Element ID of the input file picker element.\n",
              " * @param {string} outputId Element ID of the output display.\n",
              " * @return {!Iterable<!Object>} Iterable of next steps.\n",
              " */\n",
              "function* uploadFilesStep(inputId, outputId) {\n",
              "  const inputElement = document.getElementById(inputId);\n",
              "  inputElement.disabled = false;\n",
              "\n",
              "  const outputElement = document.getElementById(outputId);\n",
              "  outputElement.innerHTML = '';\n",
              "\n",
              "  const pickedPromise = new Promise((resolve) => {\n",
              "    inputElement.addEventListener('change', (e) => {\n",
              "      resolve(e.target.files);\n",
              "    });\n",
              "  });\n",
              "\n",
              "  const cancel = document.createElement('button');\n",
              "  inputElement.parentElement.appendChild(cancel);\n",
              "  cancel.textContent = 'Cancel upload';\n",
              "  const cancelPromise = new Promise((resolve) => {\n",
              "    cancel.onclick = () => {\n",
              "      resolve(null);\n",
              "    };\n",
              "  });\n",
              "\n",
              "  // Wait for the user to pick the files.\n",
              "  const files = yield {\n",
              "    promise: Promise.race([pickedPromise, cancelPromise]),\n",
              "    response: {\n",
              "      action: 'starting',\n",
              "    }\n",
              "  };\n",
              "\n",
              "  cancel.remove();\n",
              "\n",
              "  // Disable the input element since further picks are not allowed.\n",
              "  inputElement.disabled = true;\n",
              "\n",
              "  if (!files) {\n",
              "    return {\n",
              "      response: {\n",
              "        action: 'complete',\n",
              "      }\n",
              "    };\n",
              "  }\n",
              "\n",
              "  for (const file of files) {\n",
              "    const li = document.createElement('li');\n",
              "    li.append(span(file.name, {fontWeight: 'bold'}));\n",
              "    li.append(span(\n",
              "        `(${file.type || 'n/a'}) - ${file.size} bytes, ` +\n",
              "        `last modified: ${\n",
              "            file.lastModifiedDate ? file.lastModifiedDate.toLocaleDateString() :\n",
              "                                    'n/a'} - `));\n",
              "    const percent = span('0% done');\n",
              "    li.appendChild(percent);\n",
              "\n",
              "    outputElement.appendChild(li);\n",
              "\n",
              "    const fileDataPromise = new Promise((resolve) => {\n",
              "      const reader = new FileReader();\n",
              "      reader.onload = (e) => {\n",
              "        resolve(e.target.result);\n",
              "      };\n",
              "      reader.readAsArrayBuffer(file);\n",
              "    });\n",
              "    // Wait for the data to be ready.\n",
              "    let fileData = yield {\n",
              "      promise: fileDataPromise,\n",
              "      response: {\n",
              "        action: 'continue',\n",
              "      }\n",
              "    };\n",
              "\n",
              "    // Use a chunked sending to avoid message size limits. See b/62115660.\n",
              "    let position = 0;\n",
              "    do {\n",
              "      const length = Math.min(fileData.byteLength - position, MAX_PAYLOAD_SIZE);\n",
              "      const chunk = new Uint8Array(fileData, position, length);\n",
              "      position += length;\n",
              "\n",
              "      const base64 = btoa(String.fromCharCode.apply(null, chunk));\n",
              "      yield {\n",
              "        response: {\n",
              "          action: 'append',\n",
              "          file: file.name,\n",
              "          data: base64,\n",
              "        },\n",
              "      };\n",
              "\n",
              "      let percentDone = fileData.byteLength === 0 ?\n",
              "          100 :\n",
              "          Math.round((position / fileData.byteLength) * 100);\n",
              "      percent.textContent = `${percentDone}% done`;\n",
              "\n",
              "    } while (position < fileData.byteLength);\n",
              "  }\n",
              "\n",
              "  // All done.\n",
              "  yield {\n",
              "    response: {\n",
              "      action: 'complete',\n",
              "    }\n",
              "  };\n",
              "}\n",
              "\n",
              "scope.google = scope.google || {};\n",
              "scope.google.colab = scope.google.colab || {};\n",
              "scope.google.colab._files = {\n",
              "  _uploadFiles,\n",
              "  _uploadFilesContinue,\n",
              "};\n",
              "})(self);\n",
              "</script> "
            ]
          },
          "metadata": {}
        },
        {
          "output_type": "stream",
          "name": "stdout",
          "text": [
            "Saving test.ipynb to test.ipynb\n",
            "User uploaded file \"Uploading_Data_Colab_1.xlsx\" with length 9000 bytes\n"
          ]
        }
      ]
    },
    {
      "metadata": {
        "id": "BBQoJl6ruUie"
      },
      "cell_type": "markdown",
      "source": [
        "Or by using the manual loading which might be more intuitive to everyone. ---> just watch it :)\n"
      ]
    },
    {
      "metadata": {
        "id": "iZs_v_R6JWKm"
      },
      "cell_type": "code",
      "source": [
        "###Show a demo"
      ],
      "execution_count": null,
      "outputs": []
    },
    {
      "metadata": {
        "id": "prseVYDtokp1"
      },
      "cell_type": "markdown",
      "source": [
        "***Loading Data from a Website (Recommended when possible)***\n",
        "\n",
        "use (!wget **the website where the data is located**) then run the cell."
      ]
    },
    {
      "metadata": {
        "id": "9ze7n0YIpDLR"
      },
      "cell_type": "code",
      "source": [
        "#Get the data with wget and the URL\n",
        "!wget -cq https://github.com/udacity/pytorch_challenge/raw/master/cat_to_name.json\n",
        "!wget -cq https://s3.amazonaws.com/content.udacity-data.com/nd089/flower_data.tar.gz\n"
      ],
      "execution_count": null,
      "outputs": []
    },
    {
      "metadata": {
        "id": "z55wuhC_Lm6E"
      },
      "cell_type": "code",
      "source": [
        "#now you have the compressed data uploaded to your Colab, unzip it using the following command line:\n",
        "import tarfile\n",
        "tar = tarfile.open(\"flower_data.tar.gz\")\n",
        "tar.extractall()\n",
        "tar.close()"
      ],
      "execution_count": null,
      "outputs": []
    },
    {
      "metadata": {
        "id": "DGiV1m9mSRXh"
      },
      "cell_type": "code",
      "source": [
        "!rm -r flower_data.tar.gz"
      ],
      "execution_count": null,
      "outputs": []
    },
    {
      "metadata": {
        "id": "gyhItiW80io5"
      },
      "cell_type": "markdown",
      "source": [
        "If you have several zipped folders how to get them all??\n",
        "\n",
        "Example: https://nihcc.app.box.com/v/ChestXray-NIHCC\n",
        "\n",
        "--> Follow this solution:"
      ]
    },
    {
      "metadata": {
        "id": "OA5fmBQW0he5"
      },
      "cell_type": "code",
      "source": [
        "# this code will download the data to folders named images_01, images_02,.... etc\n",
        "#It was written in Python 2 and I have changed few things to make it compatible to Python 3\n",
        "import urllib\n",
        "links = [\n",
        "    'https://nihcc.box.com/shared/static/vfk49d74nhbxq3nqjg0900w5nvkorp5c.gz',\n",
        "    'https://nihcc.box.com/shared/static/i28rlmbvmfjbl8p2n3ril0pptcmcu9d1.gz',\n",
        "    'https://nihcc.box.com/shared/static/f1t00wrtdk94satdfb9olcolqx20z2jp.gz',\n",
        "\t'https://nihcc.box.com/shared/static/0aowwzs5lhjrceb3qp67ahp0rd1l1etg.gz',\n",
        "    'https://nihcc.box.com/shared/static/v5e3goj22zr6h8tzualxfsqlqaygfbsn.gz',\n",
        "\n",
        "\t'https://nihcc.box.com/shared/static/asi7ikud9jwnkrnkj99jnpfkjdes7l6l.gz',\n",
        "\t'https://nihcc.box.com/shared/static/jn1b4mw4n6lnh74ovmcjb8y48h8xj07n.gz',\n",
        "    'https://nihcc.box.com/shared/static/tvpxmn7qyrgl0w8wfh9kqfjskv6nmm1j.gz',\n",
        "\t'https://nihcc.box.com/shared/static/upyy3ml7qdumlgk2rfcvlb9k6gvqq2pj.gz',\n",
        "\t'https://nihcc.box.com/shared/static/l6nilvfa9cg3s28tqv1qc1olm3gnz54p.gz',\n",
        "\t'https://nihcc.box.com/shared/static/hhq8fkdgvcari67vfhs7ppg2w6ni4jze.gz',\n",
        "\t'https://nihcc.box.com/shared/static/ioqwiy20ihqwyr8pf4c24eazhh281pbu.gz'\n",
        "]\n",
        "for idx, link in enumerate(links):\n",
        "    fn = 'images_%02d.tar.gz' % (idx+1)\n",
        "    print ('downloading', fn, '...')\n",
        "    urllib.request.urlretrieve(link, fn)  # download the zip file\n",
        "print(\"Download complete. Please check the checksums\")\n"
      ],
      "execution_count": null,
      "outputs": []
    },
    {
      "metadata": {
        "id": "aOjeSEBKMEaE"
      },
      "cell_type": "code",
      "source": [
        "#unzip the data\n",
        "#You need to use the name of the file you need to unzip within the \"\"\n",
        "\n",
        "import tarfile\n",
        "tar = tarfile.open(\"images_01.tar.gz\")\n",
        "tar.extractall()\n",
        "tar.close()"
      ],
      "execution_count": null,
      "outputs": []
    },
    {
      "metadata": {
        "id": "hCl4WgqOSwG3"
      },
      "cell_type": "code",
      "source": [
        "!rm -r images_01.tar.gz images_02.tar.gz"
      ],
      "execution_count": null,
      "outputs": []
    },
    {
      "metadata": {
        "id": "lVL6Vwb7LpLs"
      },
      "cell_type": "markdown",
      "source": [
        "For further detailed information about uncompressing files I recommend having a look at the follwing link (for copmressing and decopressing using different ways -via command line-):\n",
        "\n",
        "https://www.hostingmanual.net/zipping-unzipping-files-unix/\n",
        "\n",
        "https://www.interserver.net/tips/kb/extract-tar-gz-files-using-linux-command-line/"
      ]
    },
    {
      "metadata": {
        "id": "a1pqEuWd5ikw"
      },
      "cell_type": "markdown",
      "source": [
        "***Google Drive (Highly recommended)***\n",
        "\n",
        "You can use the data on your Google drive and also save to your google drive. This solution will allow you to usse up to 15 GB (if you need more space you need to upgrade with Google, therefore pay some money).\n",
        "This is the best available solution with Colab. Easy and straight forward. See following:\n"
      ]
    },
    {
      "metadata": {
        "id": "aU_nqECkwidm"
      },
      "cell_type": "code",
      "source": [
        "from google.colab import drive\n",
        "drive.mount('/content/gdrive')"
      ],
      "execution_count": null,
      "outputs": []
    },
    {
      "metadata": {
        "id": "otqFm-ZkJAbl",
        "outputId": "75995339-8abc-4ff9-d997-24ab43dbb746",
        "colab": {
          "base_uri": "https://localhost:8080/",
          "height": 34
        }
      },
      "cell_type": "code",
      "source": [
        "!ls \"/content/gdrive/My Drive\""
      ],
      "execution_count": null,
      "outputs": [
        {
          "output_type": "stream",
          "text": [
            "'testing Colab'\n"
          ],
          "name": "stdout"
        }
      ]
    },
    {
      "metadata": {
        "id": "FLuHnPLLjDgK"
      },
      "cell_type": "markdown",
      "source": [
        "If you need to use these data from Google drive, you need to provide the path as the follwoing example"
      ]
    },
    {
      "metadata": {
        "id": "r22C6Fz3Okpb"
      },
      "cell_type": "code",
      "source": [
        "#images_dir = \"./gdrive/My Drive/YOUR MAIN FOLDER OR YOUR DATA/ THE SUBFOLDER WHERE THE DATA IS\"\n",
        "images_dir = \"./gdrive/My Drive/testing Colab/flower_data\""
      ],
      "execution_count": null,
      "outputs": []
    },
    {
      "metadata": {
        "id": "m63Du3riHPtb"
      },
      "cell_type": "markdown",
      "source": [
        "***Loading Data that is bigger than 15 GB??***\n",
        "\n",
        "You might need to try out some paid service like \"FloydHub\"  https://www.floydhub.com/  , or easily upgrade your Google drive ;)"
      ]
    },
    {
      "metadata": {
        "id": "M2TPaQpRP4Yb"
      },
      "cell_type": "markdown",
      "source": [
        "**Other Possible ways to handle data:**"
      ]
    },
    {
      "metadata": {
        "id": "enrIc0nnsbgw"
      },
      "cell_type": "markdown",
      "source": [
        "***From Github***\n",
        "\n",
        "Clone your repository to your Google Drive. Later you can push all the changes to your repository or pull the updates. Works for small files (which you need to transfer).\n",
        "For further information check this link: https://colab.research.google.com/github/googlecolab/colabtools/blob/master/notebooks/colab-github-demo.ipynb#scrollTo=K-NVg7RjyeTk\n"
      ]
    },
    {
      "metadata": {
        "id": "bfqJjhKCs3K6"
      },
      "cell_type": "markdown",
      "source": [
        "***From Drop Box***\n",
        "\n",
        "Here you have up to 2 GB space. Put all your images, text files ..etc in one folder and copmress it to a zip file or tar file and load it to your drop box. Later you could use some code to connect to Colab and be able to exchange data between Colab and Dropbox\n",
        "\n",
        "For further information have a look at the following repository:\n",
        "https://github.com/thatbrguy/Dropbox-Uploader\n"
      ]
    }
  ]
}