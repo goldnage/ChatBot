{
  "nbformat": 4,
  "nbformat_minor": 0,
  "metadata": {
    "colab": {
      "provenance": [],
      "authorship_tag": "ABX9TyMlM2cd2Lou1C5i/xSvpUka",
      "include_colab_link": true
    },
    "kernelspec": {
      "name": "python3",
      "display_name": "Python 3"
    },
    "language_info": {
      "name": "python"
    }
  },
  "cells": [
    {
      "cell_type": "markdown",
      "metadata": {
        "id": "view-in-github",
        "colab_type": "text"
      },
      "source": [
        "<a href=\"https://colab.research.google.com/github/goldnage/ChatBot/blob/main/openai_agent_test.ipynb\" target=\"_parent\"><img src=\"https://colab.research.google.com/assets/colab-badge.svg\" alt=\"Open In Colab\"/></a>"
      ]
    },
    {
      "cell_type": "code",
      "execution_count": null,
      "metadata": {
        "colab": {
          "base_uri": "https://localhost:8080/"
        },
        "id": "xE8cLgLagckW",
        "outputId": "33b6d169-095f-4adb-9427-8bd3b6b10a19"
      },
      "outputs": [
        {
          "output_type": "stream",
          "name": "stdout",
          "text": [
            "Symmetric and asymmetric encryption are two fundamental approaches to keeping data confidential, but they differ in how they use cryptographic keys and in their typical applications.  \n",
            "\n",
            "1. Key Structure  \n",
            "   • Symmetric encryption uses a single shared secret key for both encryption and decryption.  \n",
            "   • Asymmetric encryption (also called public-key encryption) uses a key pair: a public key to encrypt and a private key to decrypt.  \n",
            "\n",
            "2. Key Distribution  \n",
            "   • In symmetric systems, both parties must somehow share and protect the same secret key in advance. If that key is intercepted or leaked, security is broken.  \n",
            "   • In asymmetric systems, you can distribute the public key freely (e.g., post it on a website). Only someone holding the matching private key can decrypt messages encrypted by that public key.  \n",
            "\n",
            "3. Performance  \n",
            "   • Symmetric algorithms (AES, ChaCha20, etc.) are computationally fast, making them ideal for encrypting large volumes of data.  \n",
            "   • Asymmetric algorithms (RSA, ECC, etc.) involve more complex math and are much slower, so they’re usually used only for small data blocks—commonly to exchange symmetric keys or to create digital signatures.  \n",
            "\n",
            "4. Common Usage Patterns  \n",
            "   • Symmetric encryption is used for bulk data encryption (disk encryption, VPN tunnels, secure backups).  \n",
            "   • Asymmetric encryption is used for secure key exchange (SSL/TLS handshakes), digital signatures, and scenarios where you can’t safely share a secret key in advance.  \n",
            "\n",
            "5. Security Considerations  \n",
            "   • Symmetric keys must remain secret—if either party’s key storage is compromised, an attacker can decrypt the data.  \n",
            "   • Asymmetric keys require secure generation and storage of the private key; the public key can be exposed without directly compromising confidentiality.  \n",
            "\n",
            "6. Hybrid Approach  \n",
            "   • In most real-world systems, both are used together: asymmetric encryption establishes a secure channel and exchanges a short-lived symmetric key, and then that symmetric key handles the heavy lifting of bulk encryption.  \n",
            "\n",
            "Summary  \n",
            "Symmetric encryption is fast and simple but requires secure key sharing. Asymmetric encryption solves the key-distribution problem by separating encryption and decryption keys, at the cost of greater computational overhead. Combining them yields both strong security and high performance.\n"
          ]
        }
      ],
      "source": [
        "import openai\n",
        "from openai import OpenAI\n",
        "from google.colab import userdata\n",
        "import os\n",
        "\n",
        "\n",
        "\n",
        "client = OpenAI(\n",
        "    api_key = userdata.get(\"OPEN_API_KEY\"),\n",
        ")\n",
        "\n",
        "def get_chat_response(prompt):\n",
        "    response = client.chat.completions.create(\n",
        "        model=\"o4-mini\",\n",
        "        messages=[{\"role\":\"user\", \"content\":prompt}],\n",
        "        max_completion_tokens=2048,\n",
        "        temperature=1\n",
        "    )\n",
        "    return response.choices[0].message.content.strip()\n",
        "\n",
        "prompt = \"Explain the difference between symmetric and asymmetric encryption.\"\n",
        "response_text = get_chat_response(prompt)\n",
        "print(response_text)"
      ]
    },
    {
      "cell_type": "markdown",
      "source": [
        "# 새 섹션"
      ],
      "metadata": {
        "id": "oKQeK_91nU4_"
      }
    },
    {
      "cell_type": "code",
      "source": [],
      "metadata": {
        "id": "D5BZgEBRj8bg"
      },
      "execution_count": null,
      "outputs": []
    }
  ]
}